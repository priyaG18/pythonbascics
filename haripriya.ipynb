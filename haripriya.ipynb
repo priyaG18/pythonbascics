{
 "cells": [
  {
   "cell_type": "code",
   "execution_count": 2,
   "id": "b9f00754",
   "metadata": {},
   "outputs": [],
   "source": [
    "Name=\"hari priya\"\n",
    "\n"
   ]
  },
  {
   "cell_type": "markdown",
   "id": "7e82b157",
   "metadata": {},
   "source": []
  },
  {
   "cell_type": "code",
   "execution_count": 3,
   "id": "817385a6",
   "metadata": {},
   "outputs": [
    {
     "data": {
      "text/plain": [
       "'hari priya'"
      ]
     },
     "execution_count": 3,
     "metadata": {},
     "output_type": "execute_result"
    }
   ],
   "source": [
    "Name"
   ]
  },
  {
   "cell_type": "code",
   "execution_count": 4,
   "id": "e9bb4446",
   "metadata": {},
   "outputs": [],
   "source": [
    "Name=\"akhila\""
   ]
  },
  {
   "cell_type": "code",
   "execution_count": 5,
   "id": "82fcfecb",
   "metadata": {},
   "outputs": [
    {
     "data": {
      "text/plain": [
       "'akhila'"
      ]
     },
     "execution_count": 5,
     "metadata": {},
     "output_type": "execute_result"
    }
   ],
   "source": [
    "Name"
   ]
  },
  {
   "cell_type": "code",
   "execution_count": 6,
   "id": "f3e74064",
   "metadata": {},
   "outputs": [],
   "source": [
    "BMW=\"X1\""
   ]
  },
  {
   "cell_type": "code",
   "execution_count": 7,
   "id": "7b0637d1",
   "metadata": {},
   "outputs": [
    {
     "data": {
      "text/plain": [
       "'X1'"
      ]
     },
     "execution_count": 7,
     "metadata": {},
     "output_type": "execute_result"
    }
   ],
   "source": [
    "BMW"
   ]
  },
  {
   "cell_type": "code",
   "execution_count": 8,
   "id": "88a68957",
   "metadata": {},
   "outputs": [],
   "source": [
    "CAR=\"JAGUAR\""
   ]
  },
  {
   "cell_type": "code",
   "execution_count": 9,
   "id": "f7e2be93",
   "metadata": {},
   "outputs": [
    {
     "data": {
      "text/plain": [
       "'JAGUAR'"
      ]
     },
     "execution_count": 9,
     "metadata": {},
     "output_type": "execute_result"
    }
   ],
   "source": [
    "CAR"
   ]
  },
  {
   "cell_type": "code",
   "execution_count": 10,
   "id": "d2a9adea",
   "metadata": {},
   "outputs": [],
   "source": [
    "COLLEGE=\"KMICS\""
   ]
  },
  {
   "cell_type": "code",
   "execution_count": 11,
   "id": "8e5834be",
   "metadata": {},
   "outputs": [
    {
     "data": {
      "text/plain": [
       "'KMICS'"
      ]
     },
     "execution_count": 11,
     "metadata": {},
     "output_type": "execute_result"
    }
   ],
   "source": [
    "COLLEGE"
   ]
  },
  {
   "cell_type": "code",
   "execution_count": 12,
   "id": "4a090cba",
   "metadata": {},
   "outputs": [],
   "source": [
    "PHONE=\"VIVO\"\n"
   ]
  },
  {
   "cell_type": "code",
   "execution_count": 13,
   "id": "69f83e4a",
   "metadata": {},
   "outputs": [
    {
     "data": {
      "text/plain": [
       "'VIVO'"
      ]
     },
     "execution_count": 13,
     "metadata": {},
     "output_type": "execute_result"
    }
   ],
   "source": [
    "PHONE"
   ]
  },
  {
   "cell_type": "code",
   "execution_count": 14,
   "id": "6b45e400",
   "metadata": {},
   "outputs": [],
   "source": [
    "PROGRAM=\"SQL\""
   ]
  },
  {
   "cell_type": "code",
   "execution_count": 15,
   "id": "79a6b125",
   "metadata": {},
   "outputs": [
    {
     "data": {
      "text/plain": [
       "'SQL'"
      ]
     },
     "execution_count": 15,
     "metadata": {},
     "output_type": "execute_result"
    }
   ],
   "source": [
    "PROGRAM"
   ]
  },
  {
   "cell_type": "code",
   "execution_count": 16,
   "id": "a265c922",
   "metadata": {},
   "outputs": [],
   "source": [
    "NAME=\"HARIPRIYA\""
   ]
  },
  {
   "cell_type": "code",
   "execution_count": 17,
   "id": "8ac2bd76",
   "metadata": {},
   "outputs": [
    {
     "data": {
      "text/plain": [
       "'HARIPRIYA'"
      ]
     },
     "execution_count": 17,
     "metadata": {},
     "output_type": "execute_result"
    }
   ],
   "source": [
    "NAME"
   ]
  },
  {
   "cell_type": "code",
   "execution_count": 18,
   "id": "74ff3b07",
   "metadata": {},
   "outputs": [],
   "source": [
    "NUMBER=\"2023\""
   ]
  },
  {
   "cell_type": "code",
   "execution_count": 19,
   "id": "ae218d47",
   "metadata": {},
   "outputs": [
    {
     "data": {
      "text/plain": [
       "'2023'"
      ]
     },
     "execution_count": 19,
     "metadata": {},
     "output_type": "execute_result"
    }
   ],
   "source": [
    "NUMBER"
   ]
  },
  {
   "cell_type": "code",
   "execution_count": 20,
   "id": "7c1c1634",
   "metadata": {},
   "outputs": [
    {
     "ename": "NameError",
     "evalue": "name 'TYPE' is not defined",
     "output_type": "error",
     "traceback": [
      "\u001b[1;31m---------------------------------------------------------------------------\u001b[0m",
      "\u001b[1;31mNameError\u001b[0m                                 Traceback (most recent call last)",
      "Cell \u001b[1;32mIn[20], line 1\u001b[0m\n\u001b[1;32m----> 1\u001b[0m \u001b[43mTYPE\u001b[49m(\u001b[38;5;241m2023\u001b[39m)\n",
      "\u001b[1;31mNameError\u001b[0m: name 'TYPE' is not defined"
     ]
    }
   ],
   "source": [
    "TYPE(2023)"
   ]
  },
  {
   "cell_type": "code",
   "execution_count": 21,
   "id": "87c9c508",
   "metadata": {},
   "outputs": [
    {
     "ename": "NameError",
     "evalue": "name 'number' is not defined",
     "output_type": "error",
     "traceback": [
      "\u001b[1;31m---------------------------------------------------------------------------\u001b[0m",
      "\u001b[1;31mNameError\u001b[0m                                 Traceback (most recent call last)",
      "Cell \u001b[1;32mIn[21], line 1\u001b[0m\n\u001b[1;32m----> 1\u001b[0m \u001b[38;5;28mtype\u001b[39m(\u001b[43mnumber\u001b[49m)\n",
      "\u001b[1;31mNameError\u001b[0m: name 'number' is not defined"
     ]
    }
   ],
   "source": [
    "type(number)"
   ]
  },
  {
   "cell_type": "code",
   "execution_count": 22,
   "id": "36f9781b",
   "metadata": {},
   "outputs": [
    {
     "data": {
      "text/plain": [
       "str"
      ]
     },
     "execution_count": 22,
     "metadata": {},
     "output_type": "execute_result"
    }
   ],
   "source": [
    "type(NUMBER)"
   ]
  },
  {
   "cell_type": "code",
   "execution_count": 23,
   "id": "544d0a18",
   "metadata": {},
   "outputs": [
    {
     "data": {
      "text/plain": [
       "int"
      ]
     },
     "execution_count": 23,
     "metadata": {},
     "output_type": "execute_result"
    }
   ],
   "source": [
    "type(2023)"
   ]
  },
  {
   "cell_type": "code",
   "execution_count": 24,
   "id": "ce92d4db",
   "metadata": {},
   "outputs": [],
   "source": [
    "number1=2023"
   ]
  },
  {
   "cell_type": "code",
   "execution_count": 25,
   "id": "48f18805",
   "metadata": {},
   "outputs": [
    {
     "data": {
      "text/plain": [
       "2023"
      ]
     },
     "execution_count": 25,
     "metadata": {},
     "output_type": "execute_result"
    }
   ],
   "source": [
    "number1\n"
   ]
  },
  {
   "cell_type": "code",
   "execution_count": 26,
   "id": "d09091ca",
   "metadata": {},
   "outputs": [
    {
     "data": {
      "text/plain": [
       "int"
      ]
     },
     "execution_count": 26,
     "metadata": {},
     "output_type": "execute_result"
    }
   ],
   "source": [
    "type(number1)"
   ]
  },
  {
   "cell_type": "code",
   "execution_count": 27,
   "id": "fc1b0c08",
   "metadata": {},
   "outputs": [
    {
     "ename": "SyntaxError",
     "evalue": "invalid syntax (1124457109.py, line 1)",
     "output_type": "error",
     "traceback": [
      "\u001b[1;36m  Cell \u001b[1;32mIn[27], line 1\u001b[1;36m\u001b[0m\n\u001b[1;33m    1 number=\"haripriya\"\u001b[0m\n\u001b[1;37m      ^\u001b[0m\n\u001b[1;31mSyntaxError\u001b[0m\u001b[1;31m:\u001b[0m invalid syntax\n"
     ]
    }
   ],
   "source": [
    "1 number=\"haripriya\""
   ]
  },
  {
   "cell_type": "code",
   "execution_count": 28,
   "id": "eb4d4e54",
   "metadata": {},
   "outputs": [],
   "source": [
    "s=(1,2,3,4,5,6,7)"
   ]
  },
  {
   "cell_type": "code",
   "execution_count": 29,
   "id": "a6961e96",
   "metadata": {},
   "outputs": [
    {
     "data": {
      "text/plain": [
       "(1, 2, 3, 4, 5, 6, 7)"
      ]
     },
     "execution_count": 29,
     "metadata": {},
     "output_type": "execute_result"
    }
   ],
   "source": [
    "s"
   ]
  },
  {
   "cell_type": "code",
   "execution_count": 30,
   "id": "730b0115",
   "metadata": {},
   "outputs": [
    {
     "data": {
      "text/plain": [
       "tuple"
      ]
     },
     "execution_count": 30,
     "metadata": {},
     "output_type": "execute_result"
    }
   ],
   "source": [
    "type(s)"
   ]
  },
  {
   "cell_type": "code",
   "execution_count": 31,
   "id": "9723da21",
   "metadata": {},
   "outputs": [],
   "source": [
    "s1=(\"haripriya\",\"coding\",\"😍\")"
   ]
  },
  {
   "cell_type": "code",
   "execution_count": 32,
   "id": "7473bf10",
   "metadata": {},
   "outputs": [
    {
     "data": {
      "text/plain": [
       "('haripriya', 'coding', '😍')"
      ]
     },
     "execution_count": 32,
     "metadata": {},
     "output_type": "execute_result"
    }
   ],
   "source": [
    "s1"
   ]
  },
  {
   "cell_type": "code",
   "execution_count": 33,
   "id": "94632050",
   "metadata": {},
   "outputs": [
    {
     "data": {
      "text/plain": [
       "tuple"
      ]
     },
     "execution_count": 33,
     "metadata": {},
     "output_type": "execute_result"
    }
   ],
   "source": [
    "type(s1)"
   ]
  },
  {
   "cell_type": "code",
   "execution_count": 34,
   "id": "fb5895eb",
   "metadata": {},
   "outputs": [],
   "source": [
    "car=['bmw','audi','jaguar','lamborgini']"
   ]
  },
  {
   "cell_type": "code",
   "execution_count": 35,
   "id": "3763437a",
   "metadata": {},
   "outputs": [
    {
     "data": {
      "text/plain": [
       "list"
      ]
     },
     "execution_count": 35,
     "metadata": {},
     "output_type": "execute_result"
    }
   ],
   "source": [
    "type(car)"
   ]
  },
  {
   "cell_type": "code",
   "execution_count": 36,
   "id": "e30b2a5e",
   "metadata": {},
   "outputs": [],
   "source": [
    "s2={1,2,3,4,5,\"haripriya\",\"college\",\"coding\",\"phone\"}"
   ]
  },
  {
   "cell_type": "code",
   "execution_count": 37,
   "id": "5bccb059",
   "metadata": {},
   "outputs": [
    {
     "data": {
      "text/plain": [
       "{1, 2, 3, 4, 5, 'coding', 'college', 'haripriya', 'phone'}"
      ]
     },
     "execution_count": 37,
     "metadata": {},
     "output_type": "execute_result"
    }
   ],
   "source": [
    "s2"
   ]
  },
  {
   "cell_type": "code",
   "execution_count": 38,
   "id": "bff895b3",
   "metadata": {},
   "outputs": [
    {
     "data": {
      "text/plain": [
       "set"
      ]
     },
     "execution_count": 38,
     "metadata": {},
     "output_type": "execute_result"
    }
   ],
   "source": [
    "type(s2)\n"
   ]
  },
  {
   "cell_type": "code",
   "execution_count": 1,
   "id": "1cf5fa45",
   "metadata": {},
   "outputs": [],
   "source": [
    "strings=\"haripriya\",\"car\",\"holiday\",\"nike\",\"college\""
   ]
  },
  {
   "cell_type": "code",
   "execution_count": 2,
   "id": "51bdb3e3",
   "metadata": {},
   "outputs": [
    {
     "data": {
      "text/plain": [
       "('haripriya', 'car', 'holiday', 'nike', 'college')"
      ]
     },
     "execution_count": 2,
     "metadata": {},
     "output_type": "execute_result"
    }
   ],
   "source": [
    "strings"
   ]
  },
  {
   "cell_type": "code",
   "execution_count": 3,
   "id": "5815d34a",
   "metadata": {},
   "outputs": [
    {
     "name": "stdout",
     "output_type": "stream",
     "text": [
      "('haripriya', 'car', 'holiday', 'nike', 'college')\n"
     ]
    }
   ],
   "source": [
    "print(strings)"
   ]
  },
  {
   "cell_type": "code",
   "execution_count": 4,
   "id": "b3dfaf36",
   "metadata": {},
   "outputs": [
    {
     "name": "stdout",
     "output_type": "stream",
     "text": [
      "haripriya\n"
     ]
    }
   ],
   "source": [
    "print(\"haripriya\")"
   ]
  },
  {
   "cell_type": "code",
   "execution_count": 5,
   "id": "b6cf3438",
   "metadata": {},
   "outputs": [
    {
     "name": "stdout",
     "output_type": "stream",
     "text": [
      "course\n"
     ]
    }
   ],
   "source": [
    "print(\"course\")"
   ]
  },
  {
   "cell_type": "code",
   "execution_count": 6,
   "id": "62503154",
   "metadata": {},
   "outputs": [
    {
     "name": "stdout",
     "output_type": "stream",
     "text": [
      "book\n"
     ]
    }
   ],
   "source": [
    "print(\"book\")"
   ]
  },
  {
   "cell_type": "code",
   "execution_count": 7,
   "id": "56740078",
   "metadata": {},
   "outputs": [
    {
     "name": "stdout",
     "output_type": "stream",
     "text": [
      "laptop\n"
     ]
    }
   ],
   "source": [
    "print(\"laptop\")"
   ]
  },
  {
   "cell_type": "code",
   "execution_count": 8,
   "id": "0104c2ea",
   "metadata": {},
   "outputs": [
    {
     "name": "stdout",
     "output_type": "stream",
     "text": [
      "car\n"
     ]
    }
   ],
   "source": [
    "print(\"car\")\n",
    "        "
   ]
  },
  {
   "cell_type": "code",
   "execution_count": 9,
   "id": "c78fdd83",
   "metadata": {},
   "outputs": [
    {
     "name": "stdout",
     "output_type": "stream",
     "text": [
      "biscuit\n"
     ]
    }
   ],
   "source": [
    "print(\"biscuit\")"
   ]
  },
  {
   "cell_type": "code",
   "execution_count": 10,
   "id": "255f121d",
   "metadata": {},
   "outputs": [
    {
     "name": "stdout",
     "output_type": "stream",
     "text": [
      "pen\n"
     ]
    }
   ],
   "source": [
    "print(\"pen\")"
   ]
  },
  {
   "cell_type": "code",
   "execution_count": 11,
   "id": "7831911b",
   "metadata": {},
   "outputs": [
    {
     "name": "stdout",
     "output_type": "stream",
     "text": [
      "pencil\n"
     ]
    }
   ],
   "source": [
    "print(\"pencil\")"
   ]
  },
  {
   "cell_type": "code",
   "execution_count": 12,
   "id": "29bc4a83",
   "metadata": {},
   "outputs": [
    {
     "name": "stdout",
     "output_type": "stream",
     "text": [
      "kasthuri\n"
     ]
    }
   ],
   "source": [
    "print(\"kasthuri\")"
   ]
  },
  {
   "cell_type": "code",
   "execution_count": 13,
   "id": "01cf33ce",
   "metadata": {},
   "outputs": [
    {
     "name": "stdout",
     "output_type": "stream",
     "text": [
      "aishwarya\n"
     ]
    }
   ],
   "source": [
    "print(\"aishwarya\")"
   ]
  },
  {
   "cell_type": "code",
   "execution_count": 14,
   "id": "813fa334",
   "metadata": {},
   "outputs": [
    {
     "name": "stdout",
     "output_type": "stream",
     "text": [
      "sai\n"
     ]
    }
   ],
   "source": [
    "print(\"sai\")"
   ]
  },
  {
   "cell_type": "code",
   "execution_count": 15,
   "id": "4038de09",
   "metadata": {},
   "outputs": [],
   "source": [
    "#indexing"
   ]
  },
  {
   "cell_type": "code",
   "execution_count": 16,
   "id": "c9f26abe",
   "metadata": {},
   "outputs": [],
   "source": [
    "ripriyaha=(0,1,2,3,4,5,6,7)"
   ]
  },
  {
   "cell_type": "code",
   "execution_count": 17,
   "id": "d200d277",
   "metadata": {},
   "outputs": [
    {
     "data": {
      "text/plain": [
       "(0, 1, 2, 3, 4, 5, 6, 7)"
      ]
     },
     "execution_count": 17,
     "metadata": {},
     "output_type": "execute_result"
    }
   ],
   "source": [
    "s"
   ]
  },
  {
   "cell_type": "code",
   "execution_count": 18,
   "id": "26063380",
   "metadata": {},
   "outputs": [
    {
     "data": {
      "text/plain": [
       "5"
      ]
     },
     "execution_count": 18,
     "metadata": {},
     "output_type": "execute_result"
    }
   ],
   "source": [
    "s[5]"
   ]
  },
  {
   "cell_type": "code",
   "execution_count": 19,
   "id": "1b3f2bbe",
   "metadata": {},
   "outputs": [
    {
     "data": {
      "text/plain": [
       "0"
      ]
     },
     "execution_count": 19,
     "metadata": {},
     "output_type": "execute_result"
    }
   ],
   "source": [
    "s[0]"
   ]
  },
  {
   "cell_type": "code",
   "execution_count": 20,
   "id": "256124db",
   "metadata": {},
   "outputs": [
    {
     "data": {
      "text/plain": [
       "1"
      ]
     },
     "execution_count": 20,
     "metadata": {},
     "output_type": "execute_result"
    }
   ],
   "source": [
    "s[1]\n",
    " "
   ]
  },
  {
   "cell_type": "code",
   "execution_count": 21,
   "id": "356c5271",
   "metadata": {},
   "outputs": [
    {
     "data": {
      "text/plain": [
       "2"
      ]
     },
     "execution_count": 21,
     "metadata": {},
     "output_type": "execute_result"
    }
   ],
   "source": [
    "s[2]"
   ]
  },
  {
   "cell_type": "code",
   "execution_count": 22,
   "id": "bf4a9d3d",
   "metadata": {},
   "outputs": [
    {
     "data": {
      "text/plain": [
       "3"
      ]
     },
     "execution_count": 22,
     "metadata": {},
     "output_type": "execute_result"
    }
   ],
   "source": [
    "s[3]"
   ]
  },
  {
   "cell_type": "code",
   "execution_count": 23,
   "id": "d9a1e446",
   "metadata": {},
   "outputs": [
    {
     "data": {
      "text/plain": [
       "4"
      ]
     },
     "execution_count": 23,
     "metadata": {},
     "output_type": "execute_result"
    }
   ],
   "source": [
    "s[4]"
   ]
  },
  {
   "cell_type": "code",
   "execution_count": 2,
   "id": "6e41c474",
   "metadata": {},
   "outputs": [],
   "source": [
    "s=(\"audi\",\"jaguar\",\"lamborgini\",\"porshe\")"
   ]
  },
  {
   "cell_type": "code",
   "execution_count": 3,
   "id": "1a030351",
   "metadata": {},
   "outputs": [
    {
     "data": {
      "text/plain": [
       "('audi', 'jaguar', 'lamborgini', 'porshe')"
      ]
     },
     "execution_count": 3,
     "metadata": {},
     "output_type": "execute_result"
    }
   ],
   "source": [
    "s"
   ]
  },
  {
   "cell_type": "code",
   "execution_count": 4,
   "id": "fd349d3a",
   "metadata": {},
   "outputs": [],
   "source": [
    "haripriya=(\"i am haripriya from hyderabad i am from ramnagar\")"
   ]
  },
  {
   "cell_type": "code",
   "execution_count": 5,
   "id": "1b54d6a3",
   "metadata": {},
   "outputs": [
    {
     "name": "stdout",
     "output_type": "stream",
     "text": [
      "i am haripriya from hyderabad i am from ramnagar\n"
     ]
    }
   ],
   "source": [
    "print(haripriya)"
   ]
  },
  {
   "cell_type": "code",
   "execution_count": 6,
   "id": "ad03eca3",
   "metadata": {},
   "outputs": [
    {
     "data": {
      "text/plain": [
       "'lamborgini'"
      ]
     },
     "execution_count": 6,
     "metadata": {},
     "output_type": "execute_result"
    }
   ],
   "source": [
    "s[2]"
   ]
  },
  {
   "cell_type": "code",
   "execution_count": 7,
   "id": "71d15e0e",
   "metadata": {},
   "outputs": [
    {
     "data": {
      "text/plain": [
       "'a'"
      ]
     },
     "execution_count": 7,
     "metadata": {},
     "output_type": "execute_result"
    }
   ],
   "source": [
    "haripriya[2]"
   ]
  },
  {
   "cell_type": "code",
   "execution_count": 8,
   "id": "5bf9bf15",
   "metadata": {},
   "outputs": [
    {
     "data": {
      "text/plain": [
       "' '"
      ]
     },
     "execution_count": 8,
     "metadata": {},
     "output_type": "execute_result"
    }
   ],
   "source": [
    "haripriya[1]"
   ]
  },
  {
   "cell_type": "code",
   "execution_count": 9,
   "id": "b7dcad66",
   "metadata": {},
   "outputs": [
    {
     "data": {
      "text/plain": [
       "'r'"
      ]
     },
     "execution_count": 9,
     "metadata": {},
     "output_type": "execute_result"
    }
   ],
   "source": [
    "haripriya[-1]"
   ]
  },
  {
   "cell_type": "code",
   "execution_count": 10,
   "id": "10d0a36e",
   "metadata": {},
   "outputs": [
    {
     "ename": "IndexError",
     "evalue": "string index out of range",
     "output_type": "error",
     "traceback": [
      "\u001b[1;31m---------------------------------------------------------------------------\u001b[0m",
      "\u001b[1;31mIndexError\u001b[0m                                Traceback (most recent call last)",
      "Cell \u001b[1;32mIn[10], line 1\u001b[0m\n\u001b[1;32m----> 1\u001b[0m \u001b[43mharipriya\u001b[49m\u001b[43m[\u001b[49m\u001b[38;5;241;43m-\u001b[39;49m\u001b[38;5;241;43m100\u001b[39;49m\u001b[43m]\u001b[49m\n",
      "\u001b[1;31mIndexError\u001b[0m: string index out of range"
     ]
    }
   ],
   "source": [
    "haripriya[-100]"
   ]
  },
  {
   "cell_type": "code",
   "execution_count": null,
   "id": "13961a59",
   "metadata": {},
   "outputs": [],
   "source": []
  },
  {
   "cell_type": "raw",
   "id": "5153138a",
   "metadata": {},
   "source": [
    "haripriya[0:10:1]"
   ]
  },
  {
   "cell_type": "code",
   "execution_count": 2,
   "id": "fe618863",
   "metadata": {},
   "outputs": [],
   "source": [
    "haripriya=\"i write code\""
   ]
  },
  {
   "cell_type": "code",
   "execution_count": 3,
   "id": "04a5cd91",
   "metadata": {},
   "outputs": [
    {
     "data": {
      "text/plain": [
       "'i write co'"
      ]
     },
     "execution_count": 3,
     "metadata": {},
     "output_type": "execute_result"
    }
   ],
   "source": [
    "haripriya[0:10:1]"
   ]
  },
  {
   "cell_type": "code",
   "execution_count": 4,
   "id": "52073a0f",
   "metadata": {},
   "outputs": [
    {
     "data": {
      "text/plain": [
       "'iwiec'"
      ]
     },
     "execution_count": 4,
     "metadata": {},
     "output_type": "execute_result"
    }
   ],
   "source": [
    "haripriya[0:10:2]"
   ]
  },
  {
   "cell_type": "code",
   "execution_count": 5,
   "id": "8d0baf5b",
   "metadata": {},
   "outputs": [
    {
     "data": {
      "text/plain": [
       "'ireo'"
      ]
     },
     "execution_count": 5,
     "metadata": {},
     "output_type": "execute_result"
    }
   ],
   "source": [
    "haripriya[0:10:3]"
   ]
  },
  {
   "cell_type": "code",
   "execution_count": null,
   "id": "5553e584",
   "metadata": {},
   "outputs": [],
   "source": []
  }
 ],
 "metadata": {
  "kernelspec": {
   "display_name": "Python 3 (ipykernel)",
   "language": "python",
   "name": "python3"
  },
  "language_info": {
   "codemirror_mode": {
    "name": "ipython",
    "version": 3
   },
   "file_extension": ".py",
   "mimetype": "text/x-python",
   "name": "python",
   "nbconvert_exporter": "python",
   "pygments_lexer": "ipython3",
   "version": "3.10.9"
  }
 },
 "nbformat": 4,
 "nbformat_minor": 5
}
