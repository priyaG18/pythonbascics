{
 "cells": [
  {
   "cell_type": "code",
   "execution_count": 1,
   "id": "0047fc0e",
   "metadata": {},
   "outputs": [],
   "source": [
    "list=[\"haripriya\",\"car\",\"money\",\"watch\",\"bike\",\"college\"]"
   ]
  },
  {
   "cell_type": "code",
   "execution_count": 2,
   "id": "8851bd53",
   "metadata": {},
   "outputs": [
    {
     "data": {
      "text/plain": [
       "['haripriya', 'car', 'money', 'watch', 'bike', 'college']"
      ]
     },
     "execution_count": 2,
     "metadata": {},
     "output_type": "execute_result"
    }
   ],
   "source": [
    "list"
   ]
  },
  {
   "cell_type": "code",
   "execution_count": 3,
   "id": "1a88cbdf",
   "metadata": {},
   "outputs": [],
   "source": [
    "a=[\"a\",\"b\",\"c\",\"d\",\"e\",\"f\",\"g\",\"h\",\"i\",\"j\"]"
   ]
  },
  {
   "cell_type": "code",
   "execution_count": 4,
   "id": "fd46a43b",
   "metadata": {},
   "outputs": [
    {
     "data": {
      "text/plain": [
       "['a', 'b', 'c', 'd', 'e', 'f', 'g', 'h', 'i', 'j']"
      ]
     },
     "execution_count": 4,
     "metadata": {},
     "output_type": "execute_result"
    }
   ],
   "source": [
    "a"
   ]
  },
  {
   "cell_type": "code",
   "execution_count": 5,
   "id": "b0b3e55c",
   "metadata": {},
   "outputs": [],
   "source": [
    "b={1,2,3,4,5,6,7}"
   ]
  },
  {
   "cell_type": "code",
   "execution_count": 6,
   "id": "31b9b1e4",
   "metadata": {},
   "outputs": [
    {
     "data": {
      "text/plain": [
       "{1, 2, 3, 4, 5, 6, 7}"
      ]
     },
     "execution_count": 6,
     "metadata": {},
     "output_type": "execute_result"
    }
   ],
   "source": [
    "b"
   ]
  },
  {
   "cell_type": "code",
   "execution_count": 7,
   "id": "7ac51b71",
   "metadata": {},
   "outputs": [],
   "source": [
    "set={1,2,3,4,5,6,7,8,9,10}"
   ]
  },
  {
   "cell_type": "code",
   "execution_count": 8,
   "id": "a9280611",
   "metadata": {},
   "outputs": [],
   "source": [
    "dic={\"key\":\"value\",\"key1\":\"value2\",\"key\":\"value2\"}"
   ]
  },
  {
   "cell_type": "code",
   "execution_count": 9,
   "id": "267f964c",
   "metadata": {},
   "outputs": [],
   "source": [
    "haripriya={\"name\":\"haripriya\",\"email_id\":\"lingaharipriya856@gmail.com\",\"college\":\"kmics\",\"place\":\"hyderabad\"}"
   ]
  },
  {
   "cell_type": "code",
   "execution_count": 10,
   "id": "822e2926",
   "metadata": {},
   "outputs": [
    {
     "data": {
      "text/plain": [
       "{'name': 'haripriya',\n",
       " 'email_id': 'lingaharipriya856@gmail.com',\n",
       " 'college': 'kmics',\n",
       " 'place': 'hyderabad'}"
      ]
     },
     "execution_count": 10,
     "metadata": {},
     "output_type": "execute_result"
    }
   ],
   "source": [
    "haripriya"
   ]
  },
  {
   "cell_type": "code",
   "execution_count": 11,
   "id": "cd42ecfb",
   "metadata": {},
   "outputs": [
    {
     "data": {
      "text/plain": [
       "dict_values(['haripriya', 'lingaharipriya856@gmail.com', 'kmics', 'hyderabad'])"
      ]
     },
     "execution_count": 11,
     "metadata": {},
     "output_type": "execute_result"
    }
   ],
   "source": [
    "haripriya.values()"
   ]
  },
  {
   "cell_type": "code",
   "execution_count": 12,
   "id": "b474ae38",
   "metadata": {},
   "outputs": [
    {
     "data": {
      "text/plain": [
       "dict_keys(['name', 'email_id', 'college', 'place'])"
      ]
     },
     "execution_count": 12,
     "metadata": {},
     "output_type": "execute_result"
    }
   ],
   "source": [
    "haripriya.keys()"
   ]
  },
  {
   "cell_type": "code",
   "execution_count": 13,
   "id": "575184f5",
   "metadata": {},
   "outputs": [
    {
     "data": {
      "text/plain": [
       "<function dict.values>"
      ]
     },
     "execution_count": 13,
     "metadata": {},
     "output_type": "execute_result"
    }
   ],
   "source": [
    "haripriya.values"
   ]
  },
  {
   "cell_type": "code",
   "execution_count": 14,
   "id": "da45b109",
   "metadata": {},
   "outputs": [
    {
     "data": {
      "text/plain": [
       "dict"
      ]
     },
     "execution_count": 14,
     "metadata": {},
     "output_type": "execute_result"
    }
   ],
   "source": [
    "type(haripriya)"
   ]
  },
  {
   "cell_type": "code",
   "execution_count": 15,
   "id": "04d99853",
   "metadata": {},
   "outputs": [],
   "source": [
    "haripriya[0]=\"krishna\""
   ]
  },
  {
   "cell_type": "code",
   "execution_count": 16,
   "id": "7b038107",
   "metadata": {},
   "outputs": [
    {
     "data": {
      "text/plain": [
       "{'name': 'haripriya',\n",
       " 'email_id': 'lingaharipriya856@gmail.com',\n",
       " 'college': 'kmics',\n",
       " 'place': 'hyderabad',\n",
       " 0: 'krishna'}"
      ]
     },
     "execution_count": 16,
     "metadata": {},
     "output_type": "execute_result"
    }
   ],
   "source": [
    "haripriya"
   ]
  },
  {
   "cell_type": "code",
   "execution_count": 17,
   "id": "f7fd8bc5",
   "metadata": {},
   "outputs": [],
   "source": [
    "haripriya[1]=\"movie\""
   ]
  },
  {
   "cell_type": "code",
   "execution_count": 18,
   "id": "94a2f03c",
   "metadata": {},
   "outputs": [
    {
     "data": {
      "text/plain": [
       "{'name': 'haripriya',\n",
       " 'email_id': 'lingaharipriya856@gmail.com',\n",
       " 'college': 'kmics',\n",
       " 'place': 'hyderabad',\n",
       " 0: 'krishna',\n",
       " 1: 'movie'}"
      ]
     },
     "execution_count": 18,
     "metadata": {},
     "output_type": "execute_result"
    }
   ],
   "source": [
    "haripriya"
   ]
  },
  {
   "cell_type": "code",
   "execution_count": 19,
   "id": "7f9a9f22",
   "metadata": {},
   "outputs": [],
   "source": [
    "haripriya[2]=\"holiday\""
   ]
  },
  {
   "cell_type": "code",
   "execution_count": 20,
   "id": "a0579824",
   "metadata": {},
   "outputs": [
    {
     "data": {
      "text/plain": [
       "{'name': 'haripriya',\n",
       " 'email_id': 'lingaharipriya856@gmail.com',\n",
       " 'college': 'kmics',\n",
       " 'place': 'hyderabad',\n",
       " 0: 'krishna',\n",
       " 1: 'movie',\n",
       " 2: 'holiday'}"
      ]
     },
     "execution_count": 20,
     "metadata": {},
     "output_type": "execute_result"
    }
   ],
   "source": [
    "haripriya"
   ]
  },
  {
   "cell_type": "code",
   "execution_count": 21,
   "id": "e5057593",
   "metadata": {},
   "outputs": [],
   "source": [
    "t=(\"haripriya\",\"college\",\"car\",\"book\",\"bike\")"
   ]
  },
  {
   "cell_type": "code",
   "execution_count": 22,
   "id": "b97b7e67",
   "metadata": {},
   "outputs": [
    {
     "data": {
      "text/plain": [
       "('haripriya', 'college', 'car', 'book', 'bike')"
      ]
     },
     "execution_count": 22,
     "metadata": {},
     "output_type": "execute_result"
    }
   ],
   "source": [
    "t"
   ]
  },
  {
   "cell_type": "code",
   "execution_count": 23,
   "id": "ca2c3024",
   "metadata": {},
   "outputs": [
    {
     "ename": "TypeError",
     "evalue": "'tuple' object does not support item assignment",
     "output_type": "error",
     "traceback": [
      "\u001b[1;31m---------------------------------------------------------------------------\u001b[0m",
      "\u001b[1;31mTypeError\u001b[0m                                 Traceback (most recent call last)",
      "Cell \u001b[1;32mIn[23], line 1\u001b[0m\n\u001b[1;32m----> 1\u001b[0m t[\u001b[38;5;241m0\u001b[39m]\u001b[38;5;241m=\u001b[39m\u001b[38;5;124m\"\u001b[39m\u001b[38;5;124mrama\u001b[39m\u001b[38;5;124m\"\u001b[39m\n",
      "\u001b[1;31mTypeError\u001b[0m: 'tuple' object does not support item assignment"
     ]
    }
   ],
   "source": [
    "t[0]=\"rama\""
   ]
  },
  {
   "cell_type": "code",
   "execution_count": null,
   "id": "43fc7b25",
   "metadata": {},
   "outputs": [],
   "source": [
    "t=[\"haripriya\",\"college\",\"car\",\"book\",\"bike\"]\n",
    "    "
   ]
  },
  {
   "cell_type": "code",
   "execution_count": null,
   "id": "9abe9752",
   "metadata": {},
   "outputs": [],
   "source": [
    "t"
   ]
  },
  {
   "cell_type": "code",
   "execution_count": null,
   "id": "9991cbff",
   "metadata": {},
   "outputs": [],
   "source": [
    "t[0]=\"rama\""
   ]
  },
  {
   "cell_type": "code",
   "execution_count": null,
   "id": "4e0f3314",
   "metadata": {},
   "outputs": [],
   "source": [
    "t"
   ]
  },
  {
   "cell_type": "code",
   "execution_count": null,
   "id": "6e26c49b",
   "metadata": {},
   "outputs": [],
   "source": [
    "f=open(\"haripriya.txt\",\"w\")"
   ]
  },
  {
   "cell_type": "code",
   "execution_count": null,
   "id": "e95e34bc",
   "metadata": {},
   "outputs": [],
   "source": [
    "f.write(\"this is my first file writen in jupiter notebook on 1-april-2023\")"
   ]
  },
  {
   "cell_type": "code",
   "execution_count": null,
   "id": "f51b7c7a",
   "metadata": {},
   "outputs": [],
   "source": [
    "f.close"
   ]
  },
  {
   "cell_type": "markdown",
   "id": "e32df757",
   "metadata": {},
   "source": [
    "# boolean,conditions and list manupilation"
   ]
  },
  {
   "cell_type": "code",
   "execution_count": null,
   "id": "89ce878f",
   "metadata": {},
   "outputs": [],
   "source": [
    "true or false of a condition is known as boolean"
   ]
  },
  {
   "cell_type": "code",
   "execution_count": 4,
   "id": "d84865d9",
   "metadata": {},
   "outputs": [],
   "source": [
    "a=10\n",
    "b=5"
   ]
  },
  {
   "cell_type": "code",
   "execution_count": 5,
   "id": "73c9b217",
   "metadata": {},
   "outputs": [
    {
     "name": "stdout",
     "output_type": "stream",
     "text": [
      "True\n"
     ]
    }
   ],
   "source": [
    "print(a>b)"
   ]
  },
  {
   "cell_type": "code",
   "execution_count": 6,
   "id": "2aeefa5a",
   "metadata": {},
   "outputs": [
    {
     "name": "stdout",
     "output_type": "stream",
     "text": [
      "True\n"
     ]
    }
   ],
   "source": [
    "print(5<10)"
   ]
  },
  {
   "cell_type": "code",
   "execution_count": 7,
   "id": "c55a051d",
   "metadata": {},
   "outputs": [
    {
     "name": "stdout",
     "output_type": "stream",
     "text": [
      "False\n"
     ]
    }
   ],
   "source": [
    "print(a<b)"
   ]
  },
  {
   "cell_type": "code",
   "execution_count": 8,
   "id": "471a0ea0",
   "metadata": {},
   "outputs": [],
   "source": [
    "car=20\n",
    "bike=40"
   ]
  },
  {
   "cell_type": "code",
   "execution_count": 9,
   "id": "c8929060",
   "metadata": {},
   "outputs": [
    {
     "name": "stdout",
     "output_type": "stream",
     "text": [
      "True\n"
     ]
    }
   ],
   "source": [
    "print(bike>car)"
   ]
  },
  {
   "cell_type": "code",
   "execution_count": 10,
   "id": "58dc26a2",
   "metadata": {},
   "outputs": [],
   "source": [
    "dairymilk=10\n",
    "fivestar=20"
   ]
  },
  {
   "cell_type": "code",
   "execution_count": 11,
   "id": "24097bbc",
   "metadata": {},
   "outputs": [
    {
     "name": "stdout",
     "output_type": "stream",
     "text": [
      "False\n"
     ]
    }
   ],
   "source": [
    "print(dairymilk>fivestar)"
   ]
  },
  {
   "cell_type": "code",
   "execution_count": 12,
   "id": "69efb2a2",
   "metadata": {},
   "outputs": [
    {
     "name": "stdout",
     "output_type": "stream",
     "text": [
      "True\n"
     ]
    }
   ],
   "source": [
    "print(fivestar>dairymilk)"
   ]
  },
  {
   "cell_type": "code",
   "execution_count": 13,
   "id": "e435b3ec",
   "metadata": {},
   "outputs": [],
   "source": [
    "pen=50\n",
    "book=30"
   ]
  },
  {
   "cell_type": "code",
   "execution_count": 14,
   "id": "1afdda34",
   "metadata": {},
   "outputs": [
    {
     "name": "stdout",
     "output_type": "stream",
     "text": [
      "False\n"
     ]
    }
   ],
   "source": [
    "print(pen<book)"
   ]
  },
  {
   "cell_type": "code",
   "execution_count": null,
   "id": "ffc65566",
   "metadata": {},
   "outputs": [],
   "source": [
    "+,-,*,/,%"
   ]
  },
  {
   "cell_type": "code",
   "execution_count": 15,
   "id": "d40d2305",
   "metadata": {},
   "outputs": [],
   "source": [
    "a=10\n",
    "b=20"
   ]
  },
  {
   "cell_type": "code",
   "execution_count": 16,
   "id": "62814153",
   "metadata": {},
   "outputs": [
    {
     "data": {
      "text/plain": [
       "30"
      ]
     },
     "execution_count": 16,
     "metadata": {},
     "output_type": "execute_result"
    }
   ],
   "source": [
    "a+b"
   ]
  },
  {
   "cell_type": "code",
   "execution_count": 17,
   "id": "856dadda",
   "metadata": {},
   "outputs": [],
   "source": [
    "a=30\n",
    "b=20"
   ]
  },
  {
   "cell_type": "code",
   "execution_count": 18,
   "id": "429d6da1",
   "metadata": {},
   "outputs": [
    {
     "data": {
      "text/plain": [
       "10"
      ]
     },
     "execution_count": 18,
     "metadata": {},
     "output_type": "execute_result"
    }
   ],
   "source": [
    "a-b"
   ]
  },
  {
   "cell_type": "code",
   "execution_count": 19,
   "id": "bcc2665f",
   "metadata": {},
   "outputs": [],
   "source": [
    "a=15\n",
    "b=30"
   ]
  },
  {
   "cell_type": "code",
   "execution_count": 20,
   "id": "a7485ea0",
   "metadata": {},
   "outputs": [
    {
     "data": {
      "text/plain": [
       "450"
      ]
     },
     "execution_count": 20,
     "metadata": {},
     "output_type": "execute_result"
    }
   ],
   "source": [
    "a*b"
   ]
  },
  {
   "cell_type": "code",
   "execution_count": 21,
   "id": "951cef97",
   "metadata": {},
   "outputs": [],
   "source": [
    "c=9\n",
    "d=15"
   ]
  },
  {
   "cell_type": "code",
   "execution_count": 22,
   "id": "a8a0ba91",
   "metadata": {},
   "outputs": [
    {
     "data": {
      "text/plain": [
       "0.6"
      ]
     },
     "execution_count": 22,
     "metadata": {},
     "output_type": "execute_result"
    }
   ],
   "source": [
    "c/d"
   ]
  },
  {
   "cell_type": "code",
   "execution_count": 24,
   "id": "a2980058",
   "metadata": {},
   "outputs": [
    {
     "data": {
      "text/plain": [
       "9"
      ]
     },
     "execution_count": 24,
     "metadata": {},
     "output_type": "execute_result"
    }
   ],
   "source": [
    "c%d"
   ]
  },
  {
   "cell_type": "code",
   "execution_count": 25,
   "id": "7aa970d5",
   "metadata": {},
   "outputs": [
    {
     "name": "stdout",
     "output_type": "stream",
     "text": [
      "here we are adding car and pen variable\n"
     ]
    }
   ],
   "source": [
    "print(\"here we are adding car and pen variable\")"
   ]
  },
  {
   "cell_type": "code",
   "execution_count": 26,
   "id": "37a680e8",
   "metadata": {},
   "outputs": [],
   "source": [
    "car=30\n",
    "pen=40"
   ]
  },
  {
   "cell_type": "code",
   "execution_count": 27,
   "id": "f4a20680",
   "metadata": {},
   "outputs": [],
   "source": [
    "book=car+pen"
   ]
  },
  {
   "cell_type": "code",
   "execution_count": 28,
   "id": "f2f07651",
   "metadata": {},
   "outputs": [
    {
     "name": "stdout",
     "output_type": "stream",
     "text": [
      "here we are doing concatination of car and pen: value of book is:- 70\n"
     ]
    }
   ],
   "source": [
    "print(\"here we are doing concatination of car and pen: value of book is:-\",book)"
   ]
  },
  {
   "cell_type": "code",
   "execution_count": 29,
   "id": "b8b41d9d",
   "metadata": {},
   "outputs": [],
   "source": [
    "a=40\n",
    "car=20\n",
    "value=a+car\n",
    "value2=a-car\n",
    "value3=a*car\n",
    "value4=a%car\n",
    "value5=a*100/car #this is the percentage of a"
   ]
  },
  {
   "cell_type": "code",
   "execution_count": 30,
   "id": "37b6b8a8",
   "metadata": {},
   "outputs": [
    {
     "name": "stdout",
     "output_type": "stream",
     "text": [
      "60\n"
     ]
    }
   ],
   "source": [
    "print(value)"
   ]
  },
  {
   "cell_type": "code",
   "execution_count": 31,
   "id": "7784e971",
   "metadata": {},
   "outputs": [
    {
     "name": "stdout",
     "output_type": "stream",
     "text": [
      "20\n"
     ]
    }
   ],
   "source": [
    "print(value2)"
   ]
  },
  {
   "cell_type": "code",
   "execution_count": 32,
   "id": "879fd4ef",
   "metadata": {},
   "outputs": [
    {
     "name": "stdout",
     "output_type": "stream",
     "text": [
      "800\n"
     ]
    }
   ],
   "source": [
    "print(value3)"
   ]
  },
  {
   "cell_type": "code",
   "execution_count": 33,
   "id": "d974cb21",
   "metadata": {},
   "outputs": [
    {
     "name": "stdout",
     "output_type": "stream",
     "text": [
      "0\n"
     ]
    }
   ],
   "source": [
    "print(value4)"
   ]
  },
  {
   "cell_type": "code",
   "execution_count": 34,
   "id": "72dc3584",
   "metadata": {},
   "outputs": [
    {
     "name": "stdout",
     "output_type": "stream",
     "text": [
      "200.0\n"
     ]
    }
   ],
   "source": [
    "print(value5)"
   ]
  },
  {
   "cell_type": "markdown",
   "id": "ea1bd6d5",
   "metadata": {},
   "source": [
    "# list manupulation"
   ]
  },
  {
   "cell_type": "code",
   "execution_count": 36,
   "id": "1781357c",
   "metadata": {},
   "outputs": [],
   "source": [
    "t=(1,2,3,4,5,\"kasthuri\")"
   ]
  },
  {
   "cell_type": "code",
   "execution_count": 37,
   "id": "a53c757d",
   "metadata": {},
   "outputs": [
    {
     "data": {
      "text/plain": [
       "tuple"
      ]
     },
     "execution_count": 37,
     "metadata": {},
     "output_type": "execute_result"
    }
   ],
   "source": [
    "type(t)"
   ]
  },
  {
   "cell_type": "code",
   "execution_count": 38,
   "id": "8c6f5773",
   "metadata": {},
   "outputs": [],
   "source": [
    "t=[1,2,3,4,5,\"kasthuri\"]"
   ]
  },
  {
   "cell_type": "code",
   "execution_count": 39,
   "id": "53173339",
   "metadata": {},
   "outputs": [
    {
     "data": {
      "text/plain": [
       "list"
      ]
     },
     "execution_count": 39,
     "metadata": {},
     "output_type": "execute_result"
    }
   ],
   "source": [
    "type(t)\n"
   ]
  },
  {
   "cell_type": "code",
   "execution_count": 40,
   "id": "3853958b",
   "metadata": {},
   "outputs": [
    {
     "data": {
      "text/plain": [
       "[1, 2, 3, 4, 5, 'kasthuri']"
      ]
     },
     "execution_count": 40,
     "metadata": {},
     "output_type": "execute_result"
    }
   ],
   "source": [
    "list(t)"
   ]
  },
  {
   "cell_type": "code",
   "execution_count": 41,
   "id": "ada06fe1",
   "metadata": {},
   "outputs": [],
   "source": [
    "b={1,2,3,4,\"haripriya\",\"krishna\"}"
   ]
  },
  {
   "cell_type": "code",
   "execution_count": 42,
   "id": "a7a3753c",
   "metadata": {},
   "outputs": [
    {
     "data": {
      "text/plain": [
       "set"
      ]
     },
     "execution_count": 42,
     "metadata": {},
     "output_type": "execute_result"
    }
   ],
   "source": [
    "type(b)"
   ]
  },
  {
   "cell_type": "code",
   "execution_count": 43,
   "id": "673687f0",
   "metadata": {},
   "outputs": [
    {
     "data": {
      "text/plain": [
       "[1, 2, 3, 4, 'krishna', 'haripriya']"
      ]
     },
     "execution_count": 43,
     "metadata": {},
     "output_type": "execute_result"
    }
   ],
   "source": [
    "list(b)"
   ]
  },
  {
   "cell_type": "code",
   "execution_count": 44,
   "id": "a06b2bd0",
   "metadata": {},
   "outputs": [],
   "source": [
    "s1=list(b)"
   ]
  },
  {
   "cell_type": "code",
   "execution_count": null,
   "id": "6aa3b5dd",
   "metadata": {},
   "outputs": [],
   "source": []
  }
 ],
 "metadata": {
  "kernelspec": {
   "display_name": "Python 3 (ipykernel)",
   "language": "python",
   "name": "python3"
  },
  "language_info": {
   "codemirror_mode": {
    "name": "ipython",
    "version": 3
   },
   "file_extension": ".py",
   "mimetype": "text/x-python",
   "name": "python",
   "nbconvert_exporter": "python",
   "pygments_lexer": "ipython3",
   "version": "3.10.9"
  }
 },
 "nbformat": 4,
 "nbformat_minor": 5
}
