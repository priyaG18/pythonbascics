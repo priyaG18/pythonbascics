{
 "cells": [
  {
   "cell_type": "code",
   "execution_count": null,
   "id": "309438a3",
   "metadata": {},
   "outputs": [],
   "source": [
    "*= expression"
   ]
  },
  {
   "cell_type": "code",
   "execution_count": null,
   "id": "e2ebaeb8",
   "metadata": {},
   "outputs": [],
   "source": [
    "'hello'= string"
   ]
  },
  {
   "cell_type": "code",
   "execution_count": null,
   "id": "d16e24e0",
   "metadata": {},
   "outputs": [],
   "source": [
    "-87.8=integer"
   ]
  },
  {
   "cell_type": "code",
   "execution_count": null,
   "id": "7ca9dbb5",
   "metadata": {},
   "outputs": [],
   "source": [
    "-,/,+=expression"
   ]
  },
  {
   "cell_type": "code",
   "execution_count": null,
   "id": "9c40bc74",
   "metadata": {},
   "outputs": [],
   "source": [
    "6=integer"
   ]
  },
  {
   "cell_type": "code",
   "execution_count": null,
   "id": "acef7447",
   "metadata": {},
   "outputs": [],
   "source": [
    "string which stores the data in\"\"or''\n",
    "variable which stores data"
   ]
  },
  {
   "cell_type": "code",
   "execution_count": null,
   "id": "13c8f39f",
   "metadata": {},
   "outputs": [],
   "source": [
    "data types numercial,arthematical,categorical"
   ]
  },
  {
   "cell_type": "code",
   "execution_count": 7,
   "id": "f04908a2",
   "metadata": {},
   "outputs": [],
   "source": [
    "bacon=22"
   ]
  },
  {
   "cell_type": "code",
   "execution_count": 8,
   "id": "2520027f",
   "metadata": {},
   "outputs": [
    {
     "name": "stdout",
     "output_type": "stream",
     "text": [
      "23\n"
     ]
    }
   ],
   "source": [
    "print(bacon+1)"
   ]
  },
  {
   "cell_type": "code",
   "execution_count": 9,
   "id": "22d9783c",
   "metadata": {},
   "outputs": [
    {
     "data": {
      "text/plain": [
       "'spamspamspam'"
      ]
     },
     "execution_count": 9,
     "metadata": {},
     "output_type": "execute_result"
    }
   ],
   "source": [
    "'spam'+'spamspam'"
   ]
  },
  {
   "cell_type": "code",
   "execution_count": 10,
   "id": "78453219",
   "metadata": {},
   "outputs": [
    {
     "data": {
      "text/plain": [
       "'spamspamspam'"
      ]
     },
     "execution_count": 10,
     "metadata": {},
     "output_type": "execute_result"
    }
   ],
   "source": [
    "'spam'*3"
   ]
  },
  {
   "cell_type": "code",
   "execution_count": null,
   "id": "bb03a9a4",
   "metadata": {},
   "outputs": [],
   "source": [
    "variable number cannot begin with a number"
   ]
  },
  {
   "cell_type": "raw",
   "id": "c210612d",
   "metadata": {},
   "source": [
    "integers are zero,positive or nagitive ,whole numbers without a fractional p having unlimited precision eg:0,100,-10.the followings are valid integer literals in p 00>>>100100>>-10-10>>>>>>"
   ]
  },
  {
   "cell_type": "code",
   "execution_count": 11,
   "id": "3de16ab1",
   "metadata": {},
   "outputs": [
    {
     "data": {
      "text/plain": [
       "'i have eaten99burritos'"
      ]
     },
     "execution_count": 11,
     "metadata": {},
     "output_type": "execute_result"
    }
   ],
   "source": [
    "'i have eaten'+'99'+'burritos'"
   ]
  },
  {
   "cell_type": "code",
   "execution_count": null,
   "id": "ff8d6c1a",
   "metadata": {},
   "outputs": [],
   "source": []
  }
 ],
 "metadata": {
  "kernelspec": {
   "display_name": "Python 3 (ipykernel)",
   "language": "python",
   "name": "python3"
  },
  "language_info": {
   "codemirror_mode": {
    "name": "ipython",
    "version": 3
   },
   "file_extension": ".py",
   "mimetype": "text/x-python",
   "name": "python",
   "nbconvert_exporter": "python",
   "pygments_lexer": "ipython3",
   "version": "3.10.9"
  }
 },
 "nbformat": 4,
 "nbformat_minor": 5
}
