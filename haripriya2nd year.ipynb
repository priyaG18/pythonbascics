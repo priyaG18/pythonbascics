{
 "cells": [
  {
   "cell_type": "markdown",
   "id": "c2edfa80",
   "metadata": {},
   "source": [
    "# conditions"
   ]
  },
  {
   "cell_type": "code",
   "execution_count": null,
   "id": "1a70ff0c",
   "metadata": {},
   "outputs": [],
   "source": [
    "conditions has 3 modules\n",
    "if\n",
    "elif\n",
    "else"
   ]
  },
  {
   "cell_type": "code",
   "execution_count": null,
   "id": "3f84d3cf",
   "metadata": {
    "collapsed": true
   },
   "outputs": [],
   "source": [
    "if condition:\n",
    "    statement\n",
    "elif condition1:\n",
    "    statement1\n",
    "elif condition2:\n",
    "    statement2\n",
    "elif condition3:\n",
    "    statement3\n",
    "else:\n",
    "    end of the statement\n",
    "    \n",
    "    "
   ]
  },
  {
   "cell_type": "code",
   "execution_count": 3,
   "id": "68eda500",
   "metadata": {},
   "outputs": [
    {
     "name": "stdout",
     "output_type": "stream",
     "text": [
      "20\n"
     ]
    }
   ],
   "source": [
    "a=10\n",
    "b=20\n",
    "c=a+b\n",
    "if a>b:\n",
    "    print(c)\n",
    "elif a<b:\n",
    "    print(b)\n",
    "elif a!=b:\n",
    "    print(c)\n",
    "else:\n",
    "    print(\"enter the value\")\n",
    "    "
   ]
  },
  {
   "cell_type": "code",
   "execution_count": null,
   "id": "759ef38e",
   "metadata": {},
   "outputs": [],
   "source": [
    "# a=10\n",
    "if a==10:\n",
    "    print(a)\n"
   ]
  },
  {
   "cell_type": "code",
   "execution_count": 5,
   "id": "187dfaef",
   "metadata": {},
   "outputs": [
    {
     "name": "stdout",
     "output_type": "stream",
     "text": [
      "b is grt than a\n"
     ]
    }
   ],
   "source": [
    "a=10\n",
    "b=20\n",
    "if a>b:\n",
    "    print(\"a is grt than b\")\n",
    "elif b>a:\n",
    "    print(\"b is grt than a\")"
   ]
  },
  {
   "cell_type": "code",
   "execution_count": 6,
   "id": "97c6b3e3",
   "metadata": {},
   "outputs": [
    {
     "name": "stdout",
     "output_type": "stream",
     "text": [
      " 1010\n"
     ]
    }
   ],
   "source": [
    "number= 10\n",
    "a=f\"{number: b}\"\n",
    "print(a)\n"
   ]
  },
  {
   "cell_type": "code",
   "execution_count": 7,
   "id": "6eee8228",
   "metadata": {},
   "outputs": [
    {
     "name": "stdout",
     "output_type": "stream",
     "text": [
      " 11110\n"
     ]
    }
   ],
   "source": [
    "number2=30\n",
    "b=f\"{number2: 0b}\"\n",
    "print(b)"
   ]
  },
  {
   "cell_type": "code",
   "execution_count": 8,
   "id": "7fc5f05f",
   "metadata": {},
   "outputs": [
    {
     "name": "stdout",
     "output_type": "stream",
     "text": [
      "0000011110\n"
     ]
    }
   ],
   "source": [
    "number3=30\n",
    "c=f\"{number2:010b}\"\n",
    "print(c)"
   ]
  },
  {
   "cell_type": "markdown",
   "id": "e069ac94",
   "metadata": {},
   "source": [
    "# logical operations"
   ]
  },
  {
   "cell_type": "code",
   "execution_count": 9,
   "id": "78c2bf83",
   "metadata": {},
   "outputs": [
    {
     "name": "stdout",
     "output_type": "stream",
     "text": [
      "10\n"
     ]
    }
   ],
   "source": [
    "a=10\n",
    "b=20\n",
    "if a==10 or a==20:\n",
    "    print(a)\n",
    "    \n"
   ]
  },
  {
   "cell_type": "code",
   "execution_count": 10,
   "id": "22f990e9",
   "metadata": {},
   "outputs": [],
   "source": [
    "if a==10 and a==20:\n",
    "    print(a)"
   ]
  },
  {
   "cell_type": "code",
   "execution_count": null,
   "id": "81b1910d",
   "metadata": {},
   "outputs": [],
   "source": []
  }
 ],
 "metadata": {
  "kernelspec": {
   "display_name": "Python 3 (ipykernel)",
   "language": "python",
   "name": "python3"
  },
  "language_info": {
   "codemirror_mode": {
    "name": "ipython",
    "version": 3
   },
   "file_extension": ".py",
   "mimetype": "text/x-python",
   "name": "python",
   "nbconvert_exporter": "python",
   "pygments_lexer": "ipython3",
   "version": "3.10.9"
  }
 },
 "nbformat": 4,
 "nbformat_minor": 5
}
