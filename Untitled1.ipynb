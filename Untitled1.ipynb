{
 "cells": [
  {
   "cell_type": "code",
   "execution_count": null,
   "id": "53d937e8",
   "metadata": {},
   "outputs": [],
   "source": [
    "* is expression"
   ]
  },
  {
   "cell_type": "code",
   "execution_count": null,
   "id": "2568828f",
   "metadata": {},
   "outputs": [],
   "source": [
    "'hello' is str"
   ]
  },
  {
   "cell_type": "code",
   "execution_count": null,
   "id": "acfdf484",
   "metadata": {},
   "outputs": [],
   "source": [
    "-87.8 is int"
   ]
  },
  {
   "cell_type": "code",
   "execution_count": null,
   "id": "a2b757ca",
   "metadata": {},
   "outputs": [],
   "source": [
    "-,/,+ is expression"
   ]
  },
  {
   "cell_type": "code",
   "execution_count": null,
   "id": "b381e308",
   "metadata": {},
   "outputs": [],
   "source": [
    "6 is int"
   ]
  },
  {
   "cell_type": "code",
   "execution_count": null,
   "id": "1d833cdb",
   "metadata": {},
   "outputs": [],
   "source": [
    "A Variable is a store of information, and a String is a type of information you would store in a Variable. "
   ]
  },
  {
   "cell_type": "code",
   "execution_count": 5,
   "id": "e64d4602",
   "metadata": {},
   "outputs": [],
   "source": [
    "bacon=21\n"
   ]
  },
  {
   "cell_type": "code",
   "execution_count": 6,
   "id": "362cf5f9",
   "metadata": {},
   "outputs": [
    {
     "name": "stdout",
     "output_type": "stream",
     "text": [
      "22\n"
     ]
    }
   ],
   "source": [
    "print(bacon+1)"
   ]
  },
  {
   "cell_type": "code",
   "execution_count": 7,
   "id": "8d8e471c",
   "metadata": {},
   "outputs": [
    {
     "data": {
      "text/plain": [
       "'spamspamspam'"
      ]
     },
     "execution_count": 7,
     "metadata": {},
     "output_type": "execute_result"
    }
   ],
   "source": [
    "'spam'+'spamspam'"
   ]
  },
  {
   "cell_type": "code",
   "execution_count": null,
   "id": "e89d4d77",
   "metadata": {},
   "outputs": [],
   "source": []
  }
 ],
 "metadata": {
  "kernelspec": {
   "display_name": "Python 3 (ipykernel)",
   "language": "python",
   "name": "python3"
  },
  "language_info": {
   "codemirror_mode": {
    "name": "ipython",
    "version": 3
   },
   "file_extension": ".py",
   "mimetype": "text/x-python",
   "name": "python",
   "nbconvert_exporter": "python",
   "pygments_lexer": "ipython3",
   "version": "3.10.9"
  }
 },
 "nbformat": 4,
 "nbformat_minor": 5
}
