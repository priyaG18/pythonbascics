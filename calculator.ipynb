{
 "cells": [
  {
   "cell_type": "markdown",
   "id": "3cfba760",
   "metadata": {},
   "source": [
    "# calculator"
   ]
  },
  {
   "cell_type": "code",
   "execution_count": 3,
   "id": "abd35090",
   "metadata": {},
   "outputs": [
    {
     "name": "stdout",
     "output_type": "stream",
     "text": [
      "enter a value5\n",
      "enter b value5\n",
      "enter a operation,('+','-','*','/','//','%')+\n",
      "here we are performing additional operations 10\n"
     ]
    }
   ],
   "source": [
    "a=int(input(\"enter a value\"))\n",
    "b=int(input(\"enter b value\"))\n",
    "operations=input(\"enter a operation,('+','-','*','/','//','%')\")\n",
    "\n",
    "if operations==\"+\":\n",
    "    print(\"here we are performing additional operations\",a+b)\n",
    "elif operations==\"-\":\n",
    "    print(\"here we are performing subtraction operation\",a-b)\n",
    "elif operations==\"*\":\n",
    "    print(\"here we are performing multiplication operation\",a*b)\n",
    "elif operations==\"/\":\n",
    "    print(\"here we are performing  division operation\",a/b)\n",
    "elif operations==\"//\":\n",
    "     print(\"here we are performing division operation without decemial point\",a/b)\n",
    "elif operations==\"%\":\n",
    "      print(\"here we are performing division operation without decemial point \",a%b)\n",
    "else:\n",
    "    print(\"please enter valid operation\")\n",
    "\n",
    "\n",
    "    "
   ]
  },
  {
   "cell_type": "code",
   "execution_count": null,
   "id": "bc58523d",
   "metadata": {},
   "outputs": [],
   "source": []
  }
 ],
 "metadata": {
  "kernelspec": {
   "display_name": "Python 3 (ipykernel)",
   "language": "python",
   "name": "python3"
  },
  "language_info": {
   "codemirror_mode": {
    "name": "ipython",
    "version": 3
   },
   "file_extension": ".py",
   "mimetype": "text/x-python",
   "name": "python",
   "nbconvert_exporter": "python",
   "pygments_lexer": "ipython3",
   "version": "3.10.9"
  }
 },
 "nbformat": 4,
 "nbformat_minor": 5
}
