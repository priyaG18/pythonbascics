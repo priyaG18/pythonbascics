{
 "cells": [
  {
   "cell_type": "code",
   "execution_count": 2,
   "id": "cc1d74ae",
   "metadata": {},
   "outputs": [],
   "source": [
    "Name=\"hari priya\"\n",
    "\n"
   ]
  },
  {
   "cell_type": "markdown",
   "id": "c91947a3",
   "metadata": {},
   "source": []
  },
  {
   "cell_type": "code",
   "execution_count": 3,
   "id": "17446b5b",
   "metadata": {},
   "outputs": [
    {
     "data": {
      "text/plain": [
       "'hari priya'"
      ]
     },
     "execution_count": 3,
     "metadata": {},
     "output_type": "execute_result"
    }
   ],
   "source": [
    "Name"
   ]
  },
  {
   "cell_type": "code",
   "execution_count": 4,
   "id": "8e58ad47",
   "metadata": {},
   "outputs": [],
   "source": [
    "Name=\"akhila\""
   ]
  },
  {
   "cell_type": "code",
   "execution_count": 5,
   "id": "edb66fec",
   "metadata": {},
   "outputs": [
    {
     "data": {
      "text/plain": [
       "'akhila'"
      ]
     },
     "execution_count": 5,
     "metadata": {},
     "output_type": "execute_result"
    }
   ],
   "source": [
    "Name"
   ]
  },
  {
   "cell_type": "code",
   "execution_count": 6,
   "id": "17135f65",
   "metadata": {},
   "outputs": [],
   "source": [
    "BMW=\"X1\""
   ]
  },
  {
   "cell_type": "code",
   "execution_count": 7,
   "id": "c10d410d",
   "metadata": {},
   "outputs": [
    {
     "data": {
      "text/plain": [
       "'X1'"
      ]
     },
     "execution_count": 7,
     "metadata": {},
     "output_type": "execute_result"
    }
   ],
   "source": [
    "BMW"
   ]
  },
  {
   "cell_type": "code",
   "execution_count": 8,
   "id": "92e87f1c",
   "metadata": {},
   "outputs": [],
   "source": [
    "CAR=\"JAGUAR\""
   ]
  },
  {
   "cell_type": "code",
   "execution_count": 9,
   "id": "df8c6953",
   "metadata": {},
   "outputs": [
    {
     "data": {
      "text/plain": [
       "'JAGUAR'"
      ]
     },
     "execution_count": 9,
     "metadata": {},
     "output_type": "execute_result"
    }
   ],
   "source": [
    "CAR"
   ]
  },
  {
   "cell_type": "code",
   "execution_count": 10,
   "id": "023fdbbc",
   "metadata": {},
   "outputs": [],
   "source": [
    "COLLEGE=\"KMICS\""
   ]
  },
  {
   "cell_type": "code",
   "execution_count": 11,
   "id": "3cf47a5b",
   "metadata": {},
   "outputs": [
    {
     "data": {
      "text/plain": [
       "'KMICS'"
      ]
     },
     "execution_count": 11,
     "metadata": {},
     "output_type": "execute_result"
    }
   ],
   "source": [
    "COLLEGE"
   ]
  },
  {
   "cell_type": "code",
   "execution_count": 12,
   "id": "aec2c86b",
   "metadata": {},
   "outputs": [],
   "source": [
    "PHONE=\"VIVO\"\n"
   ]
  },
  {
   "cell_type": "code",
   "execution_count": 13,
   "id": "a0a9bfb8",
   "metadata": {},
   "outputs": [
    {
     "data": {
      "text/plain": [
       "'VIVO'"
      ]
     },
     "execution_count": 13,
     "metadata": {},
     "output_type": "execute_result"
    }
   ],
   "source": [
    "PHONE"
   ]
  },
  {
   "cell_type": "code",
   "execution_count": 14,
   "id": "0ab6f029",
   "metadata": {},
   "outputs": [],
   "source": [
    "PROGRAM=\"SQL\""
   ]
  },
  {
   "cell_type": "code",
   "execution_count": 15,
   "id": "8817ea3c",
   "metadata": {},
   "outputs": [
    {
     "data": {
      "text/plain": [
       "'SQL'"
      ]
     },
     "execution_count": 15,
     "metadata": {},
     "output_type": "execute_result"
    }
   ],
   "source": [
    "PROGRAM"
   ]
  },
  {
   "cell_type": "code",
   "execution_count": 16,
   "id": "9a32f7b9",
   "metadata": {},
   "outputs": [],
   "source": [
    "NAME=\"HARIPRIYA\""
   ]
  },
  {
   "cell_type": "code",
   "execution_count": 17,
   "id": "df336d68",
   "metadata": {},
   "outputs": [
    {
     "data": {
      "text/plain": [
       "'HARIPRIYA'"
      ]
     },
     "execution_count": 17,
     "metadata": {},
     "output_type": "execute_result"
    }
   ],
   "source": [
    "NAME"
   ]
  },
  {
   "cell_type": "code",
   "execution_count": 18,
   "id": "846f4e12",
   "metadata": {},
   "outputs": [],
   "source": [
    "NUMBER=\"2023\""
   ]
  },
  {
   "cell_type": "code",
   "execution_count": 19,
   "id": "8f2b167e",
   "metadata": {},
   "outputs": [
    {
     "data": {
      "text/plain": [
       "'2023'"
      ]
     },
     "execution_count": 19,
     "metadata": {},
     "output_type": "execute_result"
    }
   ],
   "source": [
    "NUMBER"
   ]
  },
  {
   "cell_type": "code",
   "execution_count": 20,
   "id": "a3323d01",
   "metadata": {},
   "outputs": [
    {
     "ename": "NameError",
     "evalue": "name 'TYPE' is not defined",
     "output_type": "error",
     "traceback": [
      "\u001b[1;31m---------------------------------------------------------------------------\u001b[0m",
      "\u001b[1;31mNameError\u001b[0m                                 Traceback (most recent call last)",
      "Cell \u001b[1;32mIn[20], line 1\u001b[0m\n\u001b[1;32m----> 1\u001b[0m \u001b[43mTYPE\u001b[49m(\u001b[38;5;241m2023\u001b[39m)\n",
      "\u001b[1;31mNameError\u001b[0m: name 'TYPE' is not defined"
     ]
    }
   ],
   "source": [
    "TYPE(2023)"
   ]
  },
  {
   "cell_type": "code",
   "execution_count": 21,
   "id": "d0cd73d3",
   "metadata": {},
   "outputs": [
    {
     "ename": "NameError",
     "evalue": "name 'number' is not defined",
     "output_type": "error",
     "traceback": [
      "\u001b[1;31m---------------------------------------------------------------------------\u001b[0m",
      "\u001b[1;31mNameError\u001b[0m                                 Traceback (most recent call last)",
      "Cell \u001b[1;32mIn[21], line 1\u001b[0m\n\u001b[1;32m----> 1\u001b[0m \u001b[38;5;28mtype\u001b[39m(\u001b[43mnumber\u001b[49m)\n",
      "\u001b[1;31mNameError\u001b[0m: name 'number' is not defined"
     ]
    }
   ],
   "source": [
    "type(number)"
   ]
  },
  {
   "cell_type": "code",
   "execution_count": 22,
   "id": "ecc27e86",
   "metadata": {},
   "outputs": [
    {
     "data": {
      "text/plain": [
       "str"
      ]
     },
     "execution_count": 22,
     "metadata": {},
     "output_type": "execute_result"
    }
   ],
   "source": [
    "type(NUMBER)"
   ]
  },
  {
   "cell_type": "code",
   "execution_count": 23,
   "id": "d0e931e3",
   "metadata": {},
   "outputs": [
    {
     "data": {
      "text/plain": [
       "int"
      ]
     },
     "execution_count": 23,
     "metadata": {},
     "output_type": "execute_result"
    }
   ],
   "source": [
    "type(2023)"
   ]
  },
  {
   "cell_type": "code",
   "execution_count": 24,
   "id": "0f9baf6b",
   "metadata": {},
   "outputs": [],
   "source": [
    "number1=2023"
   ]
  },
  {
   "cell_type": "code",
   "execution_count": 25,
   "id": "9b2d0cb1",
   "metadata": {},
   "outputs": [
    {
     "data": {
      "text/plain": [
       "2023"
      ]
     },
     "execution_count": 25,
     "metadata": {},
     "output_type": "execute_result"
    }
   ],
   "source": [
    "number1\n"
   ]
  },
  {
   "cell_type": "code",
   "execution_count": 26,
   "id": "0535e1cd",
   "metadata": {},
   "outputs": [
    {
     "data": {
      "text/plain": [
       "int"
      ]
     },
     "execution_count": 26,
     "metadata": {},
     "output_type": "execute_result"
    }
   ],
   "source": [
    "type(number1)"
   ]
  },
  {
   "cell_type": "code",
   "execution_count": 27,
   "id": "7015e48e",
   "metadata": {},
   "outputs": [
    {
     "ename": "SyntaxError",
     "evalue": "invalid syntax (1124457109.py, line 1)",
     "output_type": "error",
     "traceback": [
      "\u001b[1;36m  Cell \u001b[1;32mIn[27], line 1\u001b[1;36m\u001b[0m\n\u001b[1;33m    1 number=\"haripriya\"\u001b[0m\n\u001b[1;37m      ^\u001b[0m\n\u001b[1;31mSyntaxError\u001b[0m\u001b[1;31m:\u001b[0m invalid syntax\n"
     ]
    }
   ],
   "source": [
    "1 number=\"haripriya\""
   ]
  },
  {
   "cell_type": "code",
   "execution_count": 28,
   "id": "c3600482",
   "metadata": {},
   "outputs": [],
   "source": [
    "s=(1,2,3,4,5,6,7)"
   ]
  },
  {
   "cell_type": "code",
   "execution_count": 29,
   "id": "a00fa4cf",
   "metadata": {},
   "outputs": [
    {
     "data": {
      "text/plain": [
       "(1, 2, 3, 4, 5, 6, 7)"
      ]
     },
     "execution_count": 29,
     "metadata": {},
     "output_type": "execute_result"
    }
   ],
   "source": [
    "s"
   ]
  },
  {
   "cell_type": "code",
   "execution_count": 30,
   "id": "2b510936",
   "metadata": {},
   "outputs": [
    {
     "data": {
      "text/plain": [
       "tuple"
      ]
     },
     "execution_count": 30,
     "metadata": {},
     "output_type": "execute_result"
    }
   ],
   "source": [
    "type(s)"
   ]
  },
  {
   "cell_type": "code",
   "execution_count": 31,
   "id": "a8dfabe6",
   "metadata": {},
   "outputs": [],
   "source": [
    "s1=(\"haripriya\",\"coding\",\"😍\")"
   ]
  },
  {
   "cell_type": "code",
   "execution_count": 32,
   "id": "9dee2946",
   "metadata": {},
   "outputs": [
    {
     "data": {
      "text/plain": [
       "('haripriya', 'coding', '😍')"
      ]
     },
     "execution_count": 32,
     "metadata": {},
     "output_type": "execute_result"
    }
   ],
   "source": [
    "s1"
   ]
  },
  {
   "cell_type": "code",
   "execution_count": 33,
   "id": "e966a564",
   "metadata": {},
   "outputs": [
    {
     "data": {
      "text/plain": [
       "tuple"
      ]
     },
     "execution_count": 33,
     "metadata": {},
     "output_type": "execute_result"
    }
   ],
   "source": [
    "type(s1)"
   ]
  },
  {
   "cell_type": "code",
   "execution_count": 34,
   "id": "9cb20e3a",
   "metadata": {},
   "outputs": [],
   "source": [
    "car=['bmw','audi','jaguar','lamborgini']"
   ]
  },
  {
   "cell_type": "code",
   "execution_count": 35,
   "id": "4faa9f74",
   "metadata": {},
   "outputs": [
    {
     "data": {
      "text/plain": [
       "list"
      ]
     },
     "execution_count": 35,
     "metadata": {},
     "output_type": "execute_result"
    }
   ],
   "source": [
    "type(car)"
   ]
  },
  {
   "cell_type": "code",
   "execution_count": 36,
   "id": "2e2737ff",
   "metadata": {},
   "outputs": [],
   "source": [
    "s2={1,2,3,4,5,\"haripriya\",\"college\",\"coding\",\"phone\"}"
   ]
  },
  {
   "cell_type": "code",
   "execution_count": 37,
   "id": "62bd563c",
   "metadata": {},
   "outputs": [
    {
     "data": {
      "text/plain": [
       "{1, 2, 3, 4, 5, 'coding', 'college', 'haripriya', 'phone'}"
      ]
     },
     "execution_count": 37,
     "metadata": {},
     "output_type": "execute_result"
    }
   ],
   "source": [
    "s2"
   ]
  },
  {
   "cell_type": "code",
   "execution_count": 38,
   "id": "04e5a959",
   "metadata": {},
   "outputs": [
    {
     "data": {
      "text/plain": [
       "set"
      ]
     },
     "execution_count": 38,
     "metadata": {},
     "output_type": "execute_result"
    }
   ],
   "source": [
    "type(s2)\n"
   ]
  },
  {
   "cell_type": "code",
   "execution_count": null,
   "id": "c54b5b59",
   "metadata": {},
   "outputs": [],
   "source": []
  }
 ],
 "metadata": {
  "kernelspec": {
   "display_name": "Python 3 (ipykernel)",
   "language": "python",
   "name": "python3"
  },
  "language_info": {
   "codemirror_mode": {
    "name": "ipython",
    "version": 3
   },
   "file_extension": ".py",
   "mimetype": "text/x-python",
   "name": "python",
   "nbconvert_exporter": "python",
   "pygments_lexer": "ipython3",
   "version": "3.10.9"
  }
 },
 "nbformat": 4,
 "nbformat_minor": 5
}
